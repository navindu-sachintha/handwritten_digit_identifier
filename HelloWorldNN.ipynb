{
 "cells": [
  {
   "cell_type": "markdown",
   "id": "d003547a-6bd0-4f6b-8a8c-2c937fe69e9b",
   "metadata": {},
   "source": [
    "## Import the necessary libraries"
   ]
  },
  {
   "cell_type": "code",
   "execution_count": 2,
   "id": "ef00c0eb-ef68-4916-a83a-f4af7c7c953f",
   "metadata": {},
   "outputs": [],
   "source": [
    "import numpy as np\n",
    "import pandas as pd\n",
    "from matplotlib import pyplot as plt"
   ]
  },
  {
   "cell_type": "code",
   "execution_count": 3,
   "id": "cae3d735-d279-458a-adac-74f2966b29d2",
   "metadata": {},
   "outputs": [
    {
     "data": {
      "text/html": [
       "<div>\n",
       "<style scoped>\n",
       "    .dataframe tbody tr th:only-of-type {\n",
       "        vertical-align: middle;\n",
       "    }\n",
       "\n",
       "    .dataframe tbody tr th {\n",
       "        vertical-align: top;\n",
       "    }\n",
       "\n",
       "    .dataframe thead th {\n",
       "        text-align: right;\n",
       "    }\n",
       "</style>\n",
       "<table border=\"1\" class=\"dataframe\">\n",
       "  <thead>\n",
       "    <tr style=\"text-align: right;\">\n",
       "      <th></th>\n",
       "      <th>label</th>\n",
       "      <th>pixel0</th>\n",
       "      <th>pixel1</th>\n",
       "      <th>pixel2</th>\n",
       "      <th>pixel3</th>\n",
       "      <th>pixel4</th>\n",
       "      <th>pixel5</th>\n",
       "      <th>pixel6</th>\n",
       "      <th>pixel7</th>\n",
       "      <th>pixel8</th>\n",
       "      <th>...</th>\n",
       "      <th>pixel774</th>\n",
       "      <th>pixel775</th>\n",
       "      <th>pixel776</th>\n",
       "      <th>pixel777</th>\n",
       "      <th>pixel778</th>\n",
       "      <th>pixel779</th>\n",
       "      <th>pixel780</th>\n",
       "      <th>pixel781</th>\n",
       "      <th>pixel782</th>\n",
       "      <th>pixel783</th>\n",
       "    </tr>\n",
       "  </thead>\n",
       "  <tbody>\n",
       "    <tr>\n",
       "      <th>0</th>\n",
       "      <td>1</td>\n",
       "      <td>0</td>\n",
       "      <td>0</td>\n",
       "      <td>0</td>\n",
       "      <td>0</td>\n",
       "      <td>0</td>\n",
       "      <td>0</td>\n",
       "      <td>0</td>\n",
       "      <td>0</td>\n",
       "      <td>0</td>\n",
       "      <td>...</td>\n",
       "      <td>0</td>\n",
       "      <td>0</td>\n",
       "      <td>0</td>\n",
       "      <td>0</td>\n",
       "      <td>0</td>\n",
       "      <td>0</td>\n",
       "      <td>0</td>\n",
       "      <td>0</td>\n",
       "      <td>0</td>\n",
       "      <td>0</td>\n",
       "    </tr>\n",
       "    <tr>\n",
       "      <th>1</th>\n",
       "      <td>0</td>\n",
       "      <td>0</td>\n",
       "      <td>0</td>\n",
       "      <td>0</td>\n",
       "      <td>0</td>\n",
       "      <td>0</td>\n",
       "      <td>0</td>\n",
       "      <td>0</td>\n",
       "      <td>0</td>\n",
       "      <td>0</td>\n",
       "      <td>...</td>\n",
       "      <td>0</td>\n",
       "      <td>0</td>\n",
       "      <td>0</td>\n",
       "      <td>0</td>\n",
       "      <td>0</td>\n",
       "      <td>0</td>\n",
       "      <td>0</td>\n",
       "      <td>0</td>\n",
       "      <td>0</td>\n",
       "      <td>0</td>\n",
       "    </tr>\n",
       "    <tr>\n",
       "      <th>2</th>\n",
       "      <td>1</td>\n",
       "      <td>0</td>\n",
       "      <td>0</td>\n",
       "      <td>0</td>\n",
       "      <td>0</td>\n",
       "      <td>0</td>\n",
       "      <td>0</td>\n",
       "      <td>0</td>\n",
       "      <td>0</td>\n",
       "      <td>0</td>\n",
       "      <td>...</td>\n",
       "      <td>0</td>\n",
       "      <td>0</td>\n",
       "      <td>0</td>\n",
       "      <td>0</td>\n",
       "      <td>0</td>\n",
       "      <td>0</td>\n",
       "      <td>0</td>\n",
       "      <td>0</td>\n",
       "      <td>0</td>\n",
       "      <td>0</td>\n",
       "    </tr>\n",
       "    <tr>\n",
       "      <th>3</th>\n",
       "      <td>4</td>\n",
       "      <td>0</td>\n",
       "      <td>0</td>\n",
       "      <td>0</td>\n",
       "      <td>0</td>\n",
       "      <td>0</td>\n",
       "      <td>0</td>\n",
       "      <td>0</td>\n",
       "      <td>0</td>\n",
       "      <td>0</td>\n",
       "      <td>...</td>\n",
       "      <td>0</td>\n",
       "      <td>0</td>\n",
       "      <td>0</td>\n",
       "      <td>0</td>\n",
       "      <td>0</td>\n",
       "      <td>0</td>\n",
       "      <td>0</td>\n",
       "      <td>0</td>\n",
       "      <td>0</td>\n",
       "      <td>0</td>\n",
       "    </tr>\n",
       "    <tr>\n",
       "      <th>4</th>\n",
       "      <td>0</td>\n",
       "      <td>0</td>\n",
       "      <td>0</td>\n",
       "      <td>0</td>\n",
       "      <td>0</td>\n",
       "      <td>0</td>\n",
       "      <td>0</td>\n",
       "      <td>0</td>\n",
       "      <td>0</td>\n",
       "      <td>0</td>\n",
       "      <td>...</td>\n",
       "      <td>0</td>\n",
       "      <td>0</td>\n",
       "      <td>0</td>\n",
       "      <td>0</td>\n",
       "      <td>0</td>\n",
       "      <td>0</td>\n",
       "      <td>0</td>\n",
       "      <td>0</td>\n",
       "      <td>0</td>\n",
       "      <td>0</td>\n",
       "    </tr>\n",
       "  </tbody>\n",
       "</table>\n",
       "<p>5 rows × 785 columns</p>\n",
       "</div>"
      ],
      "text/plain": [
       "   label  pixel0  pixel1  pixel2  pixel3  pixel4  pixel5  pixel6  pixel7  \\\n",
       "0      1       0       0       0       0       0       0       0       0   \n",
       "1      0       0       0       0       0       0       0       0       0   \n",
       "2      1       0       0       0       0       0       0       0       0   \n",
       "3      4       0       0       0       0       0       0       0       0   \n",
       "4      0       0       0       0       0       0       0       0       0   \n",
       "\n",
       "   pixel8  ...  pixel774  pixel775  pixel776  pixel777  pixel778  pixel779  \\\n",
       "0       0  ...         0         0         0         0         0         0   \n",
       "1       0  ...         0         0         0         0         0         0   \n",
       "2       0  ...         0         0         0         0         0         0   \n",
       "3       0  ...         0         0         0         0         0         0   \n",
       "4       0  ...         0         0         0         0         0         0   \n",
       "\n",
       "   pixel780  pixel781  pixel782  pixel783  \n",
       "0         0         0         0         0  \n",
       "1         0         0         0         0  \n",
       "2         0         0         0         0  \n",
       "3         0         0         0         0  \n",
       "4         0         0         0         0  \n",
       "\n",
       "[5 rows x 785 columns]"
      ]
     },
     "execution_count": 3,
     "metadata": {},
     "output_type": "execute_result"
    }
   ],
   "source": [
    "data = pd.read_csv(\"./data/train.csv\")\n",
    "data.head()"
   ]
  },
  {
   "cell_type": "markdown",
   "id": "1f0418ad-a994-4eff-8dce-1bd4a007487a",
   "metadata": {},
   "source": [
    "## Converting data into NumPy array and shuffle them"
   ]
  },
  {
   "cell_type": "code",
   "execution_count": 4,
   "id": "0575fe61-bba1-44f8-abf3-27ec2ed71f39",
   "metadata": {},
   "outputs": [
    {
     "name": "stdout",
     "output_type": "stream",
     "text": [
      "42000 785\n"
     ]
    }
   ],
   "source": [
    "data = np.array(data)\n",
    "np.random.shuffle(data)\n",
    "m,n = data.shape\n",
    "print(m,n)"
   ]
  },
  {
   "cell_type": "markdown",
   "id": "ac02fbfd-5c3e-4503-b882-6ab3304d7aeb",
   "metadata": {},
   "source": [
    "## Split Dataset into train and test"
   ]
  },
  {
   "cell_type": "code",
   "execution_count": 23,
   "id": "ac20040c-a62a-4330-9643-dddd7af48be7",
   "metadata": {},
   "outputs": [],
   "source": [
    "# Testing Dataset\n",
    "\n",
    "data_test = data[0:1000].T # Split the dataset from 0 to 1000 and transpose it\n",
    "Y_test = data_test[0]\n",
    "X_test = data_test[1:n]\n",
    "\n",
    "# Training Dataset\n",
    "\n",
    "data_train = data[1000:m].T # Split the dataset from 1000 to end and transpose it\n",
    "Y_train = data_train[0]\n",
    "X_train = data_train[1:n]\n",
    "X_train = X_train / 255. # Divide each pixel value from 255 to get value between 0 and 1\n",
    "_,m_train = X_train.shape"
   ]
  },
  {
   "cell_type": "code",
   "execution_count": 24,
   "id": "5219ced1-ab22-4f6e-bcd7-60719c0e0bdf",
   "metadata": {},
   "outputs": [
    {
     "data": {
      "text/plain": [
       "array([4, 1, 3, ..., 7, 1, 6])"
      ]
     },
     "execution_count": 24,
     "metadata": {},
     "output_type": "execute_result"
    }
   ],
   "source": [
    "Y_train"
   ]
  },
  {
   "cell_type": "markdown",
   "id": "4231b544-83d8-4e92-a44d-a924f4eeefe9",
   "metadata": {},
   "source": [
    "# Forward Propagation"
   ]
  },
  {
   "cell_type": "code",
   "execution_count": 32,
   "id": "5b735e19-bc15-4c0e-b83a-153e08dafaec",
   "metadata": {},
   "outputs": [],
   "source": [
    "def init_params():\n",
    "\n",
    "    # Weight and biases initialization with Xaviers initialization for better accuracy\n",
    "    W1 = np.random.normal(size=(16,784)) * np.sqrt(1./(784))\n",
    "    b1 = np.random.normal(size=(16,1)) * np.sqrt(1./10)\n",
    "    W2 = np.random.normal(size=(10,16)) * np.sqrt(1./20)\n",
    "    b2 = np.random.normal(size=(10,1)) * np.sqrt(1./(784))\n",
    "\n",
    "    return W1,b1,W2,b2\n",
    "\n",
    "def ReLU(Z):\n",
    "    return np.maximum(0,Z)\n",
    "\n",
    "def softmax(Z):\n",
    "    Z -= np.max(Z,axis=0)\n",
    "    A = np.exp(Z)/np.sum(np.exp(Z),axis=0)\n",
    "    return A\n",
    "\n",
    "def forward_prop(W1,b1,W2,b2,X):\n",
    "    Z1 = W1.dot(X) + b1\n",
    "    A1 = ReLU(Z1)\n",
    "    Z2 = W2.dot(A1) + b2\n",
    "    A2 = softmax(Z2)\n",
    "    return Z1,A1,Z2,A2\n",
    "\n"
   ]
  },
  {
   "cell_type": "markdown",
   "id": "df956bde-52d3-4c7b-9cb9-0c64c97e54ba",
   "metadata": {},
   "source": [
    "# Backward Propegation\n",
    "- one_hot function is used to convert labels into numerical vector (i.e: 3 becomes [0,0,0,1,0,0,0,0,0,0])\n",
    "- deriv_ReLU is returning derivative of ReLU\n",
    "- update_prams function is responsible to update weights and biases of each layers regarding to the gradients (alpha means the learning rate)"
   ]
  },
  {
   "cell_type": "code",
   "execution_count": 33,
   "id": "1db4f483-d076-4fd4-bbeb-c198fa4e7aab",
   "metadata": {},
   "outputs": [],
   "source": [
    "def one_hot(Y):\n",
    "    one_hot_Y = np.zeros((Y.size, Y.max() + 1))\n",
    "    one_hot_Y[np.arange(Y.size),Y] = 1\n",
    "    one_hot_Y = one_hot_Y.T\n",
    "    return one_hot_Y\n",
    "\n",
    "def deriv_ReLU(Z):\n",
    "    return Z > 0\n",
    "\n",
    "def back_prop(Z1,A1,Z2,A2,W1,W2,X,Y):\n",
    "    one_hotY = one_hot(Y)\n",
    "    dZ2 = A2 - one_hotY # Loss of output layer\n",
    "    dW2 = 1 / m * dZ2.dot(A1.T) # gradient of output layer weights\n",
    "    db2 = 1 / m * np.sum(dZ2) # gradient of output layer biases\n",
    "    dZ1 = W2.T.dot(dZ2) * deriv_ReLU(Z1) # Loss of hidden layer\n",
    "    dW1 = 1/m * dZ1.dot(X.T) # gradient of hidden layer weights\n",
    "    db1 = 1/m * np.sum(dZ1) # gradient of hidden layer biases\n",
    "    return dW1,db1,dW2,db2\n",
    "\n",
    "def update_params(W1,b1,W2,b2,dW1,db1,dW2,db2,alpha):\n",
    "    W1 = W1 - alpha * dW1\n",
    "    b1 = b1 - alpha * db1\n",
    "    W2 = W2 - alpha * dW2\n",
    "    b2 = b2 - alpha * db2\n",
    "    return W1,b1,W2,b2"
   ]
  },
  {
   "cell_type": "markdown",
   "id": "d9322e30-c88c-4e6d-a163-bbba1910af0c",
   "metadata": {},
   "source": [
    "# Model Training"
   ]
  },
  {
   "cell_type": "code",
   "execution_count": 34,
   "id": "aea381d3-ea2e-4785-8575-54620e57ec11",
   "metadata": {},
   "outputs": [],
   "source": [
    "def get_predictions(A2):\n",
    "    return np.argmax(A2,0)\n",
    "\n",
    "def get_accuracy(predictions,Y):\n",
    "    print(predictions, Y)\n",
    "    return np.sum(predictions == Y) / Y.size\n",
    "\n",
    "def gradient_descent(X,Y,alpha,iterations):\n",
    "    W1,b1,W2,b2 = init_params()\n",
    "    \n",
    "    for i in range(iterations):\n",
    "        Z1,A1,Z2,A2 = forward_prop(W1,b1,W2,b2,X)\n",
    "        dW1,db1,dW2,db2 = back_prop(Z1,A1,Z2,A2,W1,W2,X,Y)\n",
    "        W1,b1,W2,b2 = update_params(W1,b1,W2,b2,dW1,db1,dW2,db2,alpha)\n",
    "        \n",
    "        if i % 10 == 0:\n",
    "            print(f'Iterartions - {i}')\n",
    "            predictions = get_predictions(A2)\n",
    "            print(get_accuracy(predictions,Y))\n",
    "    \n",
    "    return W1,b1,W2,b2"
   ]
  },
  {
   "cell_type": "code",
   "execution_count": 35,
   "id": "69434892-973b-423f-a49c-697f760c197e",
   "metadata": {},
   "outputs": [
    {
     "name": "stdout",
     "output_type": "stream",
     "text": [
      "Iterartions - 0\n",
      "[2 0 0 ... 5 0 5] [4 1 3 ... 7 1 6]\n",
      "0.09636585365853659\n",
      "Iterartions - 10\n",
      "[9 1 1 ... 0 1 0] [4 1 3 ... 7 1 6]\n",
      "0.3083170731707317\n",
      "Iterartions - 20\n",
      "[9 1 1 ... 0 1 6] [4 1 3 ... 7 1 6]\n",
      "0.38646341463414635\n",
      "Iterartions - 30\n",
      "[4 1 1 ... 0 1 6] [4 1 3 ... 7 1 6]\n",
      "0.5232439024390244\n",
      "Iterartions - 40\n",
      "[4 1 3 ... 7 1 6] [4 1 3 ... 7 1 6]\n",
      "0.6443414634146342\n",
      "Iterartions - 50\n",
      "[4 1 7 ... 7 1 6] [4 1 3 ... 7 1 6]\n",
      "0.7262682926829268\n",
      "Iterartions - 60\n",
      "[4 1 7 ... 7 1 6] [4 1 3 ... 7 1 6]\n",
      "0.7701951219512195\n",
      "Iterartions - 70\n",
      "[4 1 7 ... 7 1 6] [4 1 3 ... 7 1 6]\n",
      "0.7957317073170732\n",
      "Iterartions - 80\n",
      "[4 1 7 ... 7 1 6] [4 1 3 ... 7 1 6]\n",
      "0.8129024390243902\n",
      "Iterartions - 90\n",
      "[4 1 7 ... 7 1 6] [4 1 3 ... 7 1 6]\n",
      "0.8261219512195122\n",
      "Iterartions - 100\n",
      "[4 1 7 ... 7 1 6] [4 1 3 ... 7 1 6]\n",
      "0.8362926829268292\n",
      "Iterartions - 110\n",
      "[4 1 7 ... 7 1 6] [4 1 3 ... 7 1 6]\n",
      "0.8457560975609756\n",
      "Iterartions - 120\n",
      "[4 1 7 ... 7 1 6] [4 1 3 ... 7 1 6]\n",
      "0.8526829268292683\n",
      "Iterartions - 130\n",
      "[4 1 7 ... 7 1 6] [4 1 3 ... 7 1 6]\n",
      "0.8582195121951219\n",
      "Iterartions - 140\n",
      "[4 1 7 ... 7 1 6] [4 1 3 ... 7 1 6]\n",
      "0.8628780487804878\n",
      "Iterartions - 150\n",
      "[4 1 7 ... 7 1 6] [4 1 3 ... 7 1 6]\n",
      "0.8670243902439024\n",
      "Iterartions - 160\n",
      "[4 1 7 ... 7 1 6] [4 1 3 ... 7 1 6]\n",
      "0.8704146341463415\n",
      "Iterartions - 170\n",
      "[4 1 7 ... 7 1 6] [4 1 3 ... 7 1 6]\n",
      "0.8739024390243902\n",
      "Iterartions - 180\n",
      "[4 1 7 ... 7 1 6] [4 1 3 ... 7 1 6]\n",
      "0.8772439024390244\n",
      "Iterartions - 190\n",
      "[4 1 7 ... 7 1 6] [4 1 3 ... 7 1 6]\n",
      "0.879780487804878\n",
      "Iterartions - 200\n",
      "[4 1 7 ... 7 1 6] [4 1 3 ... 7 1 6]\n",
      "0.8820731707317073\n",
      "Iterartions - 210\n",
      "[4 1 7 ... 7 1 6] [4 1 3 ... 7 1 6]\n",
      "0.8844146341463415\n",
      "Iterartions - 220\n",
      "[4 1 3 ... 7 1 6] [4 1 3 ... 7 1 6]\n",
      "0.8862439024390244\n",
      "Iterartions - 230\n",
      "[4 1 3 ... 7 1 6] [4 1 3 ... 7 1 6]\n",
      "0.8880487804878049\n",
      "Iterartions - 240\n",
      "[4 1 3 ... 7 1 6] [4 1 3 ... 7 1 6]\n",
      "0.8899024390243903\n",
      "Iterartions - 250\n",
      "[4 1 3 ... 7 1 6] [4 1 3 ... 7 1 6]\n",
      "0.8916585365853659\n",
      "Iterartions - 260\n",
      "[4 1 3 ... 7 1 6] [4 1 3 ... 7 1 6]\n",
      "0.8934634146341464\n",
      "Iterartions - 270\n",
      "[4 1 3 ... 7 1 6] [4 1 3 ... 7 1 6]\n",
      "0.8944634146341464\n",
      "Iterartions - 280\n",
      "[4 1 3 ... 7 1 6] [4 1 3 ... 7 1 6]\n",
      "0.895390243902439\n",
      "Iterartions - 290\n",
      "[4 1 3 ... 7 1 6] [4 1 3 ... 7 1 6]\n",
      "0.8964146341463415\n",
      "Iterartions - 300\n",
      "[4 1 3 ... 7 1 6] [4 1 3 ... 7 1 6]\n",
      "0.8973414634146342\n",
      "Iterartions - 310\n",
      "[4 1 3 ... 7 1 6] [4 1 3 ... 7 1 6]\n",
      "0.8982926829268293\n",
      "Iterartions - 320\n",
      "[4 1 3 ... 7 1 6] [4 1 3 ... 7 1 6]\n",
      "0.8992439024390244\n",
      "Iterartions - 330\n",
      "[4 1 3 ... 7 1 6] [4 1 3 ... 7 1 6]\n",
      "0.9003170731707317\n",
      "Iterartions - 340\n",
      "[4 1 3 ... 7 1 6] [4 1 3 ... 7 1 6]\n",
      "0.9011219512195122\n",
      "Iterartions - 350\n",
      "[4 1 3 ... 7 1 6] [4 1 3 ... 7 1 6]\n",
      "0.902\n",
      "Iterartions - 360\n",
      "[4 1 3 ... 7 1 6] [4 1 3 ... 7 1 6]\n",
      "0.9030975609756098\n",
      "Iterartions - 370\n",
      "[4 1 3 ... 7 1 6] [4 1 3 ... 7 1 6]\n",
      "0.9037073170731708\n",
      "Iterartions - 380\n",
      "[4 1 3 ... 7 1 6] [4 1 3 ... 7 1 6]\n",
      "0.9040975609756098\n",
      "Iterartions - 390\n",
      "[4 1 3 ... 7 1 6] [4 1 3 ... 7 1 6]\n",
      "0.9045609756097561\n",
      "Iterartions - 400\n",
      "[4 1 3 ... 7 1 6] [4 1 3 ... 7 1 6]\n",
      "0.9051463414634147\n",
      "Iterartions - 410\n",
      "[4 1 3 ... 7 1 6] [4 1 3 ... 7 1 6]\n",
      "0.9057560975609756\n",
      "Iterartions - 420\n",
      "[4 1 3 ... 7 1 6] [4 1 3 ... 7 1 6]\n",
      "0.9060731707317073\n",
      "Iterartions - 430\n",
      "[4 1 3 ... 7 1 6] [4 1 3 ... 7 1 6]\n",
      "0.9065609756097561\n",
      "Iterartions - 440\n",
      "[4 1 3 ... 7 1 6] [4 1 3 ... 7 1 6]\n",
      "0.9070975609756098\n",
      "Iterartions - 450\n",
      "[4 1 3 ... 7 1 6] [4 1 3 ... 7 1 6]\n",
      "0.9075853658536586\n",
      "Iterartions - 460\n",
      "[4 1 3 ... 7 1 6] [4 1 3 ... 7 1 6]\n",
      "0.9082926829268293\n",
      "Iterartions - 470\n",
      "[4 1 3 ... 7 1 6] [4 1 3 ... 7 1 6]\n",
      "0.9086341463414634\n",
      "Iterartions - 480\n",
      "[4 1 3 ... 7 1 6] [4 1 3 ... 7 1 6]\n",
      "0.9093170731707317\n",
      "Iterartions - 490\n",
      "[4 1 3 ... 7 1 6] [4 1 3 ... 7 1 6]\n",
      "0.9097317073170732\n"
     ]
    }
   ],
   "source": [
    "W1,b1,W2,b2 = gradient_descent(X_train,Y_train,0.10,500)"
   ]
  },
  {
   "cell_type": "markdown",
   "id": "04b816ea-4fe4-4ae2-8705-f8227011e704",
   "metadata": {},
   "source": [
    "# Model testing"
   ]
  },
  {
   "cell_type": "code",
   "execution_count": 42,
   "id": "96e9935d-b06b-4756-bee3-b2d0f1f5fca1",
   "metadata": {},
   "outputs": [],
   "source": [
    "def make_predictions(X,W1,b1,W2,b2):\n",
    "    _,_,_,A2 = forward_prop(W1,b1,W2,b2,X)\n",
    "    predictions = get_predictions(A2)\n",
    "    return predictions\n",
    "\n",
    "def test_prediction(index,W1,b1,W2,b2):\n",
    "    current_image = X_train[:,index, None]\n",
    "    prediction = make_predictions(X_train[:,index,None],W1,b1,W2,b2)\n",
    "    \n",
    "    label = Y_train[index]\n",
    "    print(\"Prediction: \",prediction)\n",
    "    print(\"Label: \",label)\n",
    "    \n",
    "    current_image = current_image.reshape((28,28)) * 255\n",
    "    plt.gray()\n",
    "    plt.imshow(current_image, interpolation='nearest')\n",
    "    plt.show()"
   ]
  },
  {
   "cell_type": "code",
   "execution_count": 43,
   "id": "021a62a7-6b40-4c72-bf99-16bed7888389",
   "metadata": {},
   "outputs": [
    {
     "name": "stdout",
     "output_type": "stream",
     "text": [
      "Prediction:  [4]\n",
      "Label:  4\n"
     ]
    },
    {
     "data": {
      "image/png": "[encoded data removed]",
      "text/plain": [
       "<Figure size 640x480 with 1 Axes>"
      ]
     },
     "metadata": {},
     "output_type": "display_data"
    },
    {
     "name": "stdout",
     "output_type": "stream",
     "text": [
      "Prediction:  [1]\n",
      "Label:  1\n"
     ]
    },
    {
     "data": {
      "image/png": "[encoded data removed]",
      "text/plain": [
       "<Figure size 640x480 with 1 Axes>"
      ]
     },
     "metadata": {},
     "output_type": "display_data"
    },
    {
     "name": "stdout",
     "output_type": "stream",
     "text": [
      "Prediction:  [7]\n",
      "Label:  7\n"
     ]
    },
    {
     "data": {
      "image/png": "[encoded data removed]",
      "text/plain": [
       "<Figure size 640x480 with 1 Axes>"
      ]
     },
     "metadata": {},
     "output_type": "display_data"
    },
    {
     "name": "stdout",
     "output_type": "stream",
     "text": [
      "Prediction:  [5]\n",
      "Label:  5\n"
     ]
    },
    {
     "data": {
      "image/png": "[encoded data removed]",
      "text/plain": [
       "<Figure size 640x480 with 1 Axes>"
      ]
     },
     "metadata": {},
     "output_type": "display_data"
    }
   ],
   "source": [
    "test_prediction(0,W1,b1,W2,b2)\n",
    "test_prediction(10,W1,b1,W2,b2)\n",
    "test_prediction(3,W1,b1,W2,b2)\n",
    "test_prediction(5,W1,b1,W2,b2)"
   ]
  }
 ],
 "metadata": {
  "kernelspec": {
   "display_name": "Python 3 (ipykernel)",
   "language": "python",
   "name": "python3"
  },
  "language_info": {
   "codemirror_mode": {
    "name": "ipython",
    "version": 3
   },
   "file_extension": ".py",
   "mimetype": "text/x-python",
   "name": "python",
   "nbconvert_exporter": "python",
   "pygments_lexer": "ipython3",
   "version": "3.11.5"
  }
 },
 "nbformat": 4,
 "nbformat_minor": 5
}
